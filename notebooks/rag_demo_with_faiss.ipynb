{
 "cells": [
  {
   "cell_type": "code",
   "execution_count": null,
   "id": "47e4daf3",
   "metadata": {},
   "outputs": [],
   "source": [
    "# !pip install -U langchain langchain_community numpy\n",
    "# !pip install tqdm langchain_huggingface\n",
    "# !pip install faiss-cpu\n",
    "# !pip install uuid"
   ]
  },
  {
   "cell_type": "code",
   "execution_count": null,
   "id": "056f7227-85bf-429e-a439-844ebb8464a3",
   "metadata": {},
   "outputs": [],
   "source": [
    "from langchain_huggingface.embeddings import HuggingFaceEmbeddings\n",
    "embeddings_model = HuggingFaceEmbeddings(model_name=\"sentence-transformers/all-mpnet-base-v2\")"
   ]
  },
  {
   "cell_type": "code",
   "execution_count": 31,
   "id": "29dca276-6c64-4d85-83b4-5516bc1ccaac",
   "metadata": {},
   "outputs": [
    {
     "data": {
      "text/plain": [
       "768"
      ]
     },
     "execution_count": 31,
     "metadata": {},
     "output_type": "execute_result"
    }
   ],
   "source": [
    "demo_text = \"Hello, it is a sunny day!\"\n",
    "len(embeddings_model.embed_query(demo_text))"
   ]
  },
  {
   "cell_type": "code",
   "execution_count": 32,
   "id": "80f630fe",
   "metadata": {},
   "outputs": [],
   "source": [
    "import os\n",
    "import faiss\n",
    "import numpy as np\n",
    "from langchain.document_loaders import TextLoader\n",
    "from langchain.text_splitter import RecursiveCharacterTextSplitter\n",
    "from langchain_community.vectorstores import FAISS\n",
    "from langchain_community.docstore.in_memory import InMemoryDocstore\n",
    "from tqdm import tqdm\n",
    "from uuid import uuid4"
   ]
  },
  {
   "cell_type": "code",
   "execution_count": null,
   "id": "da788074-0700-452c-9464-31a33d98b327",
   "metadata": {},
   "outputs": [],
   "source": [
    "def get_faiss_vector_store(dimension: int = 768):\n",
    "    # Initialize FAISS index\n",
    "    \n",
    "    index = faiss.IndexHNSWFlat(dimension)\n",
    "    vector_store = FAISS(\n",
    "        embedding_function=embeddings_model,\n",
    "        index=index,\n",
    "        docstore= InMemoryDocstore(),\n",
    "        index_to_docstore_id={}\n",
    "    )\n",
    "    return vector_store\n",
    "\n",
    "\n",
    "\n",
    "async def vectorize_documents(directory):\n",
    "    faiss_vector_store = get_faiss_vector_store()\n",
    "\n",
    "    # Iterate over all .txt files in the specified directory\n",
    "    for filename in tqdm(os.listdir(directory)):\n",
    "        if filename.endswith('.txt'):\n",
    "            file_path = os.path.join(directory, filename)\n",
    "\n",
    "            # Load document\n",
    "            loader = TextLoader(file_path)\n",
    "            document = loader.load()\n",
    "            \n",
    "            # Chunk the document\n",
    "            text_splitter = RecursiveCharacterTextSplitter(chunk_size=1000, chunk_overlap=150)\n",
    "            chunks = text_splitter.split_documents(document)\n",
    "\n",
    "            await faiss_vector_store.aadd_documents(chunks)\n",
    "\n",
    "\n",
    "    return faiss_vector_store\n"
   ]
  },
  {
   "cell_type": "code",
   "execution_count": 36,
   "id": "fcb01911-8ad9-43a5-9296-4ca586261311",
   "metadata": {},
   "outputs": [
    {
     "name": "stderr",
     "output_type": "stream",
     "text": [
      " 33%|███▎      | 1/3 [00:05<00:10,  5.49s/it]"
     ]
    },
    {
     "name": "stdout",
     "output_type": "stream",
     "text": [
      "['40a11c1b-5a47-42b5-9a4d-009e1358248e', '41316fe8-c08c-4992-b00f-96f63e356568', 'f854af04-de18-4b96-be63-defe8e335d28', '26558cc1-d0ba-4837-9d19-01902654eef8', 'a65db5b0-32cc-4bed-94db-f5530cd77ba5', '8026a1c9-f3c6-406b-a10f-5f25907bdd00', 'c0d25b3f-0128-4096-801a-937f01e13136', '6bb0ccca-a18e-404b-aced-3dc6fb20b6d3', '7d3cd571-450a-4bcc-b48c-001200634314', '045b3d84-5998-4239-9ad0-4659b22a462f', 'ccaa651e-9971-4278-ab68-04b6eedcdaae', '4a6e2b3c-0660-41cd-9884-0919eeb1b162', '5a460fb0-28ed-46a6-8eb1-4b24408eaf55', '2ba2ad74-fc50-4855-b53a-b7bf09714ba3', '26eecc8f-6e35-4b58-8f70-be3dd4b51a08', '5f7415ee-889d-4877-babe-6f39066ad0e6', '6abbd0bb-29ee-4bc1-8acc-ff9fb6d7c4e3', '40eb59cb-25b9-4010-b385-c8ee46819b88', '41868865-fde1-43c9-b77e-86a665918984', '135e1e4a-f100-4623-896e-c20ffbe41d15', 'bb14871d-e9f9-44cd-b893-16054a2b3f82', '16ec870d-5c9d-4ac6-9bf1-14b577366a78', 'b96ce4aa-2a43-4eb6-8b14-9c116c20056c', '3fbda7cf-b8e7-4f09-8158-290180f6a4f0', 'bb09bd46-15b2-4680-a99d-ce5bf62d62aa', '2dce6411-7ebf-4128-9e51-861144b35deb', '92b8488f-7b3b-4064-b2de-d30af4766e16', 'ff16669d-5c2a-4c2a-b176-dd51af3f7f3d', 'a6316fdb-8c0c-46d7-84d2-ec057ad5b709', '20cedee6-2846-4470-9254-5c6f13d0d882', 'a213a21f-6971-4741-9e87-426c1cce9bd4', '9930e0d1-681a-4346-a7c8-302db9bcbbef', 'ae562f14-64fa-44bb-b613-792b8d6b743f', '16a78214-4f23-4347-bf31-1108b495da7f', '9624a99e-2b42-4e43-a51c-daf74c9f2a0d', 'dec6a55d-6b72-4022-9247-18ed76e67a56', '7b7ad455-b4c1-4b4c-8024-ac6881f4b1a6', 'fdcd2376-31d7-4211-b006-36037439e105', '41e0a010-1d1f-421a-92c2-e3339c6e7a34', '975cce37-f577-4003-b1c4-4ac755fd2e0f', '3c9b9644-9f9c-41f7-8a5a-cab9ba5da698', '93e454d3-fae4-4270-a199-4a6a61b49365', '163a87fb-6b4c-4af5-ad12-79aa0b17dac5', 'dd38fa15-98a1-4ddf-bdc8-ce809112b88f', 'ab242389-9f92-4e66-975d-ef9cb0389497', '57bca893-5839-4a9b-8084-6807c5d21c97', '55c38e1f-75af-4ff2-b560-90f7bb6ec0e5', '7857465c-5f05-4385-9059-da27554735ba', 'ddb2dcd5-4b09-4518-a4ce-691836628051', '389de1a2-bd03-4e82-9953-62d5202bd7a2', 'f13ab111-c186-4ef9-a9a7-67b04a9a90c6', 'a0e1a3b4-13f4-499e-9b84-7333cf3fbea5', '5248f7cc-02b1-4d1f-801b-de1a7adf54af', '6d0daa1a-fffd-4059-beff-bfcd1f59c432']\n"
     ]
    },
    {
     "name": "stderr",
     "output_type": "stream",
     "text": [
      " 67%|██████▋   | 2/3 [00:10<00:05,  5.05s/it]"
     ]
    },
    {
     "name": "stdout",
     "output_type": "stream",
     "text": [
      "['7c8fb603-5881-47da-849c-2c310bca6b2b', '3734d6f1-05b9-4239-860f-f63547824167', 'a5b3f7e5-bf24-47a9-99cf-5a556fd82c06', '40b91462-af74-4185-b780-c35df00ecf95', '8a4f947f-249a-494d-9b23-55d4a8a45911', '346a1634-3796-47eb-bda1-e78f2f73a0de', '3ad523b0-18b7-4c13-b212-9d108feea76c', 'f15d5e63-7ae9-4137-95fe-ba0d95efab8d', 'df8d6ef5-29bb-4b1d-aa7c-28e13f31688e', 'e133fa44-a338-474d-a847-2be263a3d461', 'd84e7618-375d-44e5-a892-a47385178a96', 'ddc4498b-a31c-47c2-85eb-674f990d5dff', 'fa187e95-63de-47fc-838a-5df289194771', '7174454b-68b6-40da-9819-d2fa51e509dc', 'ed13c003-00de-4fab-a6a9-0f684497f559', '2f3ea614-a2be-4313-8363-7eda1bff9293', '955bfd64-3d24-4c3e-a452-da56f7f78ad3', 'b2ea828a-3b54-48a8-818b-cd30724c18c3', 'e8e18b3e-da5d-4082-ac00-b135f069edf6', 'ce677eb3-5c0f-4b51-a10d-ab3c084c8502', 'd2e9e501-e8d9-465b-8737-ca2d3e7131a7', '947905b8-3ca1-41ce-acf3-40df015312fb', '4c00671b-e2e8-4305-b1dc-f2afb3abb96f', '1b5ffcd8-2eb8-454b-ae23-1943528811f6', 'ebce1905-9ceb-488a-b786-7c4719db32f9', 'ed64b243-8f16-4599-b2e8-3d9272f3fb7c', 'c8852c02-9e9c-4976-bc46-1eaf321f4dac', '0c0c8704-8900-43c4-bed2-bc36afc9208e', 'b62b1829-4492-4b28-9fcf-8634a6826e60', '627b7041-71a4-4731-976e-0268085777ee', 'ada04e61-f254-42cd-a3f1-c6d0969fcbcb', 'b1f9d33e-f5dd-41dd-86d1-2e60ea3e68a8', 'bd4dac60-693b-4dcc-815c-4842864eaa1b', '20bf8e7c-cc7a-4963-b26e-091ee0205dcc', '091360fc-ec75-4fbd-936a-56a985531880']\n"
     ]
    },
    {
     "name": "stderr",
     "output_type": "stream",
     "text": [
      "100%|██████████| 3/3 [00:12<00:00,  4.14s/it]"
     ]
    },
    {
     "name": "stdout",
     "output_type": "stream",
     "text": [
      "['0f71e535-7853-4165-9d8a-19bd2d8d730f', 'd0cc7835-467f-4d9a-b26a-87101da5683a', '7f613bb5-399b-4b56-a00f-e587703ec0bf', '2d0f78ca-db70-4a13-9e1a-e387e4f39355', 'b49d6137-ee96-477a-a211-6566dc008df2', '3f87fea6-6bc0-43e2-9b4b-e946de61c2c9', 'c18dfc23-02ec-4041-a34e-ebf31f8c06e3', '4ce3f48c-4842-4b1f-9880-ce050fd18d60', '729173fc-7c2d-4815-8636-663d393b5354', '0c6059d4-febc-497a-880e-f7854ba60ee0', 'a0797d81-7f7f-4be2-ad37-4f4c1d77f08d', 'a1dd84d2-9cb1-4cbc-b93b-e3156bd1a6ea', 'ae37b492-ad3a-4dbb-b883-5bb477ea0acc', 'e23bdb10-b07b-405c-99bf-c5a414101aae', '1699fe94-dbab-4486-b9b0-4076aa7bc378', '5e4236c4-f5e6-46d5-9c27-fd4673606d2c', '1372d476-df61-404a-bdc6-bbd1fb0fa777', 'dfea1ed7-96cf-4373-826f-9787941b9293', 'c6a753dc-185b-4044-92d0-ea06fc27a07a', '911edea7-c75c-4ab9-b686-18ef0e12333b', 'b49f820f-d908-45c7-9e60-b0c2c9509ed2', '4732adb8-f2f1-40f1-9049-35ad13737ddf', '1112bb0c-5ce6-41ba-88a2-8ceb48b0d8a4']\n"
     ]
    },
    {
     "name": "stderr",
     "output_type": "stream",
     "text": [
      "\n"
     ]
    }
   ],
   "source": [
    "directory_path = './docs/'  # Replace with your directory\n",
    "faiss_vector_store = await vectorize_documents(directory_path)"
   ]
  },
  {
   "cell_type": "code",
   "execution_count": 45,
   "id": "6cd308cb-615a-4bd1-8397-80aa6ea18f57",
   "metadata": {},
   "outputs": [
    {
     "data": {
      "text/plain": [
       "112"
      ]
     },
     "execution_count": 45,
     "metadata": {},
     "output_type": "execute_result"
    }
   ],
   "source": [
    "faiss_vector_store.index.ntotal"
   ]
  },
  {
   "cell_type": "code",
   "execution_count": 48,
   "id": "7a307638-4912-4bc5-8269-f726afdc1cec",
   "metadata": {},
   "outputs": [
    {
     "data": {
      "text/plain": [
       "[Document(id='7f613bb5-399b-4b56-a00f-e587703ec0bf', metadata={'source': './docs/ai.txt'}, page_content=\"Various subfields of AI research are centered around particular goals and the use of particular tools. The traditional goals of AI research include reasoning, knowledge representation, planning, learning, natural language processing, perception, and support for robotics.[a] General intelligence—the ability to complete any task performed by a human on an at least equal level—is among the field's long-term goals.[4] To reach these goals, AI researchers have adapted and integrated a wide range of techniques, including search and mathematical optimization, formal logic, artificial neural networks, and methods based on statistics, operations research, and economics.[b] AI also draws upon psychology, linguistics, philosophy, neuroscience, and other fields.[5]\"),\n",
       " Document(id='0f71e535-7853-4165-9d8a-19bd2d8d730f', metadata={'source': './docs/ai.txt'}, page_content='Artificial intelligence (AI), in its broadest sense, is intelligence exhibited by machines, particularly computer systems. It is a field of research in computer science that develops and studies methods and software that enable machines to perceive their environment and use learning and intelligence to take actions that maximize their chances of achieving defined goals.[1] Such machines may be called AIs.'),\n",
       " Document(id='b49d6137-ee96-477a-a211-6566dc008df2', metadata={'source': './docs/ai.txt'}, page_content='Goals\\nThe general problem of simulating (or creating) intelligence has been broken into subproblems. These consist of particular traits or capabilities that researchers expect an intelligent system to display. The traits described below have received the most attention and cover the scope of AI research.[a]\\n\\nReasoning and problem-solving\\nEarly researchers developed algorithms that imitated step-by-step reasoning that humans use when they solve puzzles or make logical deductions.[13] By the late 1980s and 1990s, methods were developed for dealing with uncertain or incomplete information, employing concepts from probability and economics.[14]'),\n",
       " Document(id='d0cc7835-467f-4d9a-b26a-87101da5683a', metadata={'source': './docs/ai.txt'}, page_content='High-profile applications of AI include advanced web search engines (e.g., Google Search); recommendation systems (used by YouTube, Amazon, and Netflix); virtual assistants (e.g., Google Assistant, Siri, and Alexa); autonomous vehicles (e.g., Waymo); generative and creative tools (e.g., ChatGPT and AI art); and superhuman play and analysis in strategy games (e.g., chess and Go). However, many AI applications are not perceived as AI: \"A lot of cutting edge AI has filtered into general applications, often without being called AI because once something becomes useful enough and common enough it\\'s not labeled AI anymore.\"[2][3]'),\n",
       " Document(id='5e4236c4-f5e6-46d5-9c27-fd4673606d2c', metadata={'source': './docs/ai.txt'}, page_content='General intelligence\\nA machine with artificial general intelligence should be able to solve a wide variety of problems with breadth and versatility similar to human intelligence.[4]\\n\\nTechniques\\nAI research uses a wide variety of techniques to accomplish the goals above.[b]\\n\\nSearch and optimization\\nAI can solve many problems by intelligently searching through many possible solutions.[68] There are two very different kinds of search used in AI: state space search and local search.\\n\\nState space search\\nState space search searches through a tree of possible states to try to find a goal state.[69] For example, planning algorithms search through trees of goals and subgoals, attempting to find a path to a target goal, a process called means-ends analysis.[70]'),\n",
       " Document(id='1699fe94-dbab-4486-b9b0-4076aa7bc378', metadata={'source': './docs/ai.txt'}, page_content='Social intelligence\\n\\nKismet, a robot head which was made in the 1990s; it is a machine that can recognize and simulate emotions.[64]\\nAffective computing is a field that comprises systems that recognize, interpret, process, or simulate human feeling, emotion, and mood.[65] For example, some virtual assistants are programmed to speak conversationally or even to banter humorously; it makes them appear more sensitive to the emotional dynamics of human interaction, or to otherwise facilitate human–computer interaction.\\n\\nHowever, this tends to give naïve users an unrealistic conception of the intelligence of existing computer agents.[66] Moderate successes related to affective computing include textual sentiment analysis and, more recently, multimodal sentiment analysis, wherein AI classifies the effects displayed by a videotaped subject.[67]'),\n",
       " Document(id='2d0f78ca-db70-4a13-9e1a-e387e4f39355', metadata={'source': './docs/ai.txt'}, page_content='Artificial intelligence was founded as an academic discipline in 1956,[6] and the field went through multiple cycles of optimism throughout its history,[7][8] followed by periods of disappointment and loss of funding, known as AI winters.[9][10] Funding and interest vastly increased after 2012 when deep learning outperformed previous AI techniques.[11] This growth accelerated further after 2017 with the transformer architecture,[12] and by the early 2020s many billions of dollars were being invested in AI and the field experienced rapid ongoing progress in what has become known as the AI boom. The emergence of advanced generative AI in the midst of the AI boom and its ability to create and modify content exposed several unintended consequences and harms in the present and raised concerns about the risks of AI and its long-term effects in the future, prompting discussions about regulatory policies to ensure the safety and benefits of the technology.')]"
      ]
     },
     "execution_count": 48,
     "metadata": {},
     "output_type": "execute_result"
    }
   ],
   "source": [
    "ans = await faiss_vector_store.asimilarity_search(query=\"Applications of Artifiical Intelligence?\", k=7)\n",
    "ans"
   ]
  },
  {
   "cell_type": "code",
   "execution_count": 49,
   "id": "33868e0f",
   "metadata": {},
   "outputs": [
    {
     "data": {
      "text/plain": [
       "[(Document(id='7f613bb5-399b-4b56-a00f-e587703ec0bf', metadata={'source': './docs/ai.txt'}, page_content=\"Various subfields of AI research are centered around particular goals and the use of particular tools. The traditional goals of AI research include reasoning, knowledge representation, planning, learning, natural language processing, perception, and support for robotics.[a] General intelligence—the ability to complete any task performed by a human on an at least equal level—is among the field's long-term goals.[4] To reach these goals, AI researchers have adapted and integrated a wide range of techniques, including search and mathematical optimization, formal logic, artificial neural networks, and methods based on statistics, operations research, and economics.[b] AI also draws upon psychology, linguistics, philosophy, neuroscience, and other fields.[5]\"),\n",
       "  np.float32(0.80512697)),\n",
       " (Document(id='0f71e535-7853-4165-9d8a-19bd2d8d730f', metadata={'source': './docs/ai.txt'}, page_content='Artificial intelligence (AI), in its broadest sense, is intelligence exhibited by machines, particularly computer systems. It is a field of research in computer science that develops and studies methods and software that enable machines to perceive their environment and use learning and intelligence to take actions that maximize their chances of achieving defined goals.[1] Such machines may be called AIs.'),\n",
       "  np.float32(0.84163743)),\n",
       " (Document(id='b49d6137-ee96-477a-a211-6566dc008df2', metadata={'source': './docs/ai.txt'}, page_content='Goals\\nThe general problem of simulating (or creating) intelligence has been broken into subproblems. These consist of particular traits or capabilities that researchers expect an intelligent system to display. The traits described below have received the most attention and cover the scope of AI research.[a]\\n\\nReasoning and problem-solving\\nEarly researchers developed algorithms that imitated step-by-step reasoning that humans use when they solve puzzles or make logical deductions.[13] By the late 1980s and 1990s, methods were developed for dealing with uncertain or incomplete information, employing concepts from probability and economics.[14]'),\n",
       "  np.float32(0.89052284)),\n",
       " (Document(id='d0cc7835-467f-4d9a-b26a-87101da5683a', metadata={'source': './docs/ai.txt'}, page_content='High-profile applications of AI include advanced web search engines (e.g., Google Search); recommendation systems (used by YouTube, Amazon, and Netflix); virtual assistants (e.g., Google Assistant, Siri, and Alexa); autonomous vehicles (e.g., Waymo); generative and creative tools (e.g., ChatGPT and AI art); and superhuman play and analysis in strategy games (e.g., chess and Go). However, many AI applications are not perceived as AI: \"A lot of cutting edge AI has filtered into general applications, often without being called AI because once something becomes useful enough and common enough it\\'s not labeled AI anymore.\"[2][3]'),\n",
       "  np.float32(0.90729505)),\n",
       " (Document(id='5e4236c4-f5e6-46d5-9c27-fd4673606d2c', metadata={'source': './docs/ai.txt'}, page_content='General intelligence\\nA machine with artificial general intelligence should be able to solve a wide variety of problems with breadth and versatility similar to human intelligence.[4]\\n\\nTechniques\\nAI research uses a wide variety of techniques to accomplish the goals above.[b]\\n\\nSearch and optimization\\nAI can solve many problems by intelligently searching through many possible solutions.[68] There are two very different kinds of search used in AI: state space search and local search.\\n\\nState space search\\nState space search searches through a tree of possible states to try to find a goal state.[69] For example, planning algorithms search through trees of goals and subgoals, attempting to find a path to a target goal, a process called means-ends analysis.[70]'),\n",
       "  np.float32(0.91468596)),\n",
       " (Document(id='1699fe94-dbab-4486-b9b0-4076aa7bc378', metadata={'source': './docs/ai.txt'}, page_content='Social intelligence\\n\\nKismet, a robot head which was made in the 1990s; it is a machine that can recognize and simulate emotions.[64]\\nAffective computing is a field that comprises systems that recognize, interpret, process, or simulate human feeling, emotion, and mood.[65] For example, some virtual assistants are programmed to speak conversationally or even to banter humorously; it makes them appear more sensitive to the emotional dynamics of human interaction, or to otherwise facilitate human–computer interaction.\\n\\nHowever, this tends to give naïve users an unrealistic conception of the intelligence of existing computer agents.[66] Moderate successes related to affective computing include textual sentiment analysis and, more recently, multimodal sentiment analysis, wherein AI classifies the effects displayed by a videotaped subject.[67]'),\n",
       "  np.float32(0.9231646)),\n",
       " (Document(id='2d0f78ca-db70-4a13-9e1a-e387e4f39355', metadata={'source': './docs/ai.txt'}, page_content='Artificial intelligence was founded as an academic discipline in 1956,[6] and the field went through multiple cycles of optimism throughout its history,[7][8] followed by periods of disappointment and loss of funding, known as AI winters.[9][10] Funding and interest vastly increased after 2012 when deep learning outperformed previous AI techniques.[11] This growth accelerated further after 2017 with the transformer architecture,[12] and by the early 2020s many billions of dollars were being invested in AI and the field experienced rapid ongoing progress in what has become known as the AI boom. The emergence of advanced generative AI in the midst of the AI boom and its ability to create and modify content exposed several unintended consequences and harms in the present and raised concerns about the risks of AI and its long-term effects in the future, prompting discussions about regulatory policies to ensure the safety and benefits of the technology.'),\n",
       "  np.float32(1.0202634))]"
      ]
     },
     "execution_count": 49,
     "metadata": {},
     "output_type": "execute_result"
    }
   ],
   "source": [
    "query = \"Applications of Artifiical Intelligence?\"\n",
    "vectorized_query = np.array(embeddings_model.embed_query(query), dtype=\"float64\")\n",
    "\n",
    "ans = await faiss_vector_store.asimilarity_search_with_score_by_vector(embedding=vectorized_query, k=7)\n",
    "ans"
   ]
  },
  {
   "cell_type": "code",
   "execution_count": 50,
   "id": "3bb54344",
   "metadata": {},
   "outputs": [
    {
     "data": {
      "text/plain": [
       "[(Document(id='7f613bb5-399b-4b56-a00f-e587703ec0bf', metadata={'source': './docs/ai.txt'}, page_content=\"Various subfields of AI research are centered around particular goals and the use of particular tools. The traditional goals of AI research include reasoning, knowledge representation, planning, learning, natural language processing, perception, and support for robotics.[a] General intelligence—the ability to complete any task performed by a human on an at least equal level—is among the field's long-term goals.[4] To reach these goals, AI researchers have adapted and integrated a wide range of techniques, including search and mathematical optimization, formal logic, artificial neural networks, and methods based on statistics, operations research, and economics.[b] AI also draws upon psychology, linguistics, philosophy, neuroscience, and other fields.[5]\"),\n",
       "  np.float32(0.80512697)),\n",
       " (Document(id='0f71e535-7853-4165-9d8a-19bd2d8d730f', metadata={'source': './docs/ai.txt'}, page_content='Artificial intelligence (AI), in its broadest sense, is intelligence exhibited by machines, particularly computer systems. It is a field of research in computer science that develops and studies methods and software that enable machines to perceive their environment and use learning and intelligence to take actions that maximize their chances of achieving defined goals.[1] Such machines may be called AIs.'),\n",
       "  np.float32(0.84163743)),\n",
       " (Document(id='b49d6137-ee96-477a-a211-6566dc008df2', metadata={'source': './docs/ai.txt'}, page_content='Goals\\nThe general problem of simulating (or creating) intelligence has been broken into subproblems. These consist of particular traits or capabilities that researchers expect an intelligent system to display. The traits described below have received the most attention and cover the scope of AI research.[a]\\n\\nReasoning and problem-solving\\nEarly researchers developed algorithms that imitated step-by-step reasoning that humans use when they solve puzzles or make logical deductions.[13] By the late 1980s and 1990s, methods were developed for dealing with uncertain or incomplete information, employing concepts from probability and economics.[14]'),\n",
       "  np.float32(0.89052284)),\n",
       " (Document(id='d0cc7835-467f-4d9a-b26a-87101da5683a', metadata={'source': './docs/ai.txt'}, page_content='High-profile applications of AI include advanced web search engines (e.g., Google Search); recommendation systems (used by YouTube, Amazon, and Netflix); virtual assistants (e.g., Google Assistant, Siri, and Alexa); autonomous vehicles (e.g., Waymo); generative and creative tools (e.g., ChatGPT and AI art); and superhuman play and analysis in strategy games (e.g., chess and Go). However, many AI applications are not perceived as AI: \"A lot of cutting edge AI has filtered into general applications, often without being called AI because once something becomes useful enough and common enough it\\'s not labeled AI anymore.\"[2][3]'),\n",
       "  np.float32(0.90729505)),\n",
       " (Document(id='5e4236c4-f5e6-46d5-9c27-fd4673606d2c', metadata={'source': './docs/ai.txt'}, page_content='General intelligence\\nA machine with artificial general intelligence should be able to solve a wide variety of problems with breadth and versatility similar to human intelligence.[4]\\n\\nTechniques\\nAI research uses a wide variety of techniques to accomplish the goals above.[b]\\n\\nSearch and optimization\\nAI can solve many problems by intelligently searching through many possible solutions.[68] There are two very different kinds of search used in AI: state space search and local search.\\n\\nState space search\\nState space search searches through a tree of possible states to try to find a goal state.[69] For example, planning algorithms search through trees of goals and subgoals, attempting to find a path to a target goal, a process called means-ends analysis.[70]'),\n",
       "  np.float32(0.91468596)),\n",
       " (Document(id='1699fe94-dbab-4486-b9b0-4076aa7bc378', metadata={'source': './docs/ai.txt'}, page_content='Social intelligence\\n\\nKismet, a robot head which was made in the 1990s; it is a machine that can recognize and simulate emotions.[64]\\nAffective computing is a field that comprises systems that recognize, interpret, process, or simulate human feeling, emotion, and mood.[65] For example, some virtual assistants are programmed to speak conversationally or even to banter humorously; it makes them appear more sensitive to the emotional dynamics of human interaction, or to otherwise facilitate human–computer interaction.\\n\\nHowever, this tends to give naïve users an unrealistic conception of the intelligence of existing computer agents.[66] Moderate successes related to affective computing include textual sentiment analysis and, more recently, multimodal sentiment analysis, wherein AI classifies the effects displayed by a videotaped subject.[67]'),\n",
       "  np.float32(0.9231646)),\n",
       " (Document(id='2d0f78ca-db70-4a13-9e1a-e387e4f39355', metadata={'source': './docs/ai.txt'}, page_content='Artificial intelligence was founded as an academic discipline in 1956,[6] and the field went through multiple cycles of optimism throughout its history,[7][8] followed by periods of disappointment and loss of funding, known as AI winters.[9][10] Funding and interest vastly increased after 2012 when deep learning outperformed previous AI techniques.[11] This growth accelerated further after 2017 with the transformer architecture,[12] and by the early 2020s many billions of dollars were being invested in AI and the field experienced rapid ongoing progress in what has become known as the AI boom. The emergence of advanced generative AI in the midst of the AI boom and its ability to create and modify content exposed several unintended consequences and harms in the present and raised concerns about the risks of AI and its long-term effects in the future, prompting discussions about regulatory policies to ensure the safety and benefits of the technology.'),\n",
       "  np.float32(1.0202634))]"
      ]
     },
     "execution_count": 50,
     "metadata": {},
     "output_type": "execute_result"
    }
   ],
   "source": [
    "query = \"Applications of Artifiical Intelligence?\"\n",
    "vectorized_query = embeddings_model.embed_query(query)\n",
    "\n",
    "ans = await faiss_vector_store.asimilarity_search_with_score_by_vector(embedding=vectorized_query, k=7)\n",
    "ans"
   ]
  },
  {
   "cell_type": "markdown",
   "id": "4f900e41",
   "metadata": {},
   "source": [
    "# Architecture:\n",
    "- All data in vector store\n",
    "    - Need a database loading function\n",
    "    - Expensive to embed everytime. So, store embeddings locally and just load them.\n",
    "    - Use contextual retrieval chunks with context attached to the chunks.\n",
    "- Use semantic cache to reduce load and latency\n",
    "    - use naive way first: check with semantic search with 90% to 95% match.\n",
    "    - Can also use 100% match : overcomes issue of only year change. e.g. who won fifa 2018? vs who won fifa 2022?\n",
    "    - Can use caches like redis to do this\n",
    "- Use a mix of lexical and semantic search\n",
    "    - BM25 for lexical search\n",
    "    - Cosine Similarity for semantic search\n",
    "- Use re-ranking model to re-rank the results and pass top k to LLM\n",
    "    - experiment with the k hyper-parameter\n",
    "    - experiment with LLM used with different context window without context stuffing\n",
    "- Host LLMs and embedding models with vLLM and serve them with low-latency."
   ]
  },
  {
   "cell_type": "markdown",
   "id": "adb48e44",
   "metadata": {},
   "source": []
  }
 ],
 "metadata": {
  "kernelspec": {
   "display_name": ".venv",
   "language": "python",
   "name": "python3"
  },
  "language_info": {
   "codemirror_mode": {
    "name": "ipython",
    "version": 3
   },
   "file_extension": ".py",
   "mimetype": "text/x-python",
   "name": "python",
   "nbconvert_exporter": "python",
   "pygments_lexer": "ipython3",
   "version": "3.12.3"
  }
 },
 "nbformat": 4,
 "nbformat_minor": 5
}
